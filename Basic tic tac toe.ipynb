{
  "nbformat": 4,
  "nbformat_minor": 0,
  "metadata": {
    "colab": {
      "provenance": [],
      "authorship_tag": "ABX9TyMBWXIWoHArWOgeiFC3ZF4V",
      "include_colab_link": true
    },
    "kernelspec": {
      "name": "python3",
      "display_name": "Python 3"
    },
    "language_info": {
      "name": "python"
    }
  },
  "cells": [
    {
      "cell_type": "markdown",
      "metadata": {
        "id": "view-in-github",
        "colab_type": "text"
      },
      "source": [
        "<a href=\"https://colab.research.google.com/github/JijoJames04/AI-ML/blob/main/Basic%20tic%20tac%20toe.ipynb\" target=\"_parent\"><img src=\"https://colab.research.google.com/assets/colab-badge.svg\" alt=\"Open In Colab\"/></a>"
      ]
    },
    {
      "cell_type": "code",
      "execution_count": null,
      "metadata": {
        "id": "TzGSGaJhPn3O"
      },
      "outputs": [],
      "source": [
        "import numpy as np\n",
        "import random"
      ]
    },
    {
      "cell_type": "markdown",
      "source": [
        "# **Exercise 1**"
      ],
      "metadata": {
        "id": "Fvj87IGHPqzG"
      }
    },
    {
      "cell_type": "markdown",
      "source": [
        "For our tic-tac-toe board, we will use a numpy array with dimension 3 by 3.\n",
        "\n",
        "Write a function *create_board()* that creates such a board with the value of each cell set to the integer 0.\n",
        "\n",
        "Call *create_board()* and store it.\n",
        "\n",
        "What is the correct numpy function to initialize our tic-tac-toe board?"
      ],
      "metadata": {
        "id": "4G5efBMhP3bP"
      }
    },
    {
      "cell_type": "code",
      "source": [
        "def create_board():\n",
        "    board = np.zeros((3,3), dtype=int)\n",
        "    return board"
      ],
      "metadata": {
        "id": "kY35FheuQRUF"
      },
      "execution_count": null,
      "outputs": []
    },
    {
      "cell_type": "markdown",
      "source": [
        "# **Exercise 2**"
      ],
      "metadata": {
        "id": "yliNQph-QfVv"
      }
    },
    {
      "cell_type": "markdown",
      "source": [
        "Players 1 and 2 will take turns changing values of this array from a 0 to a 1 or 2, indicating the number of the player who places a marker there.\n",
        "\n",
        "Create a function ***place(board, player, position)***, where:\n",
        "\n",
        "- ***player*** is the current player (an integer 1 or 2).\n",
        "\n",
        "- ***position*** is a tuple of length 2 specifying a desired location to place their marker.\n",
        "\n",
        "Your function should only allow the current player to place a marker on the board (change the board position to their number) if that position is empty (zero).\n",
        "\n",
        "Use ***create_board()*** to store a board as ***board***, and use ***place*** to have Player 1 place a marker on location (0, 0).\n",
        "\n",
        "What is the correct way to use the *place* function to have Player 1 place a marker on location (0,0)?\n"
      ],
      "metadata": {
        "id": "53aFZ6ZhQqvV"
      }
    },
    {
      "cell_type": "code",
      "source": [
        "def place(board, player, position):\n",
        "    if board[position] == 0:\n",
        "        board[position] = player\n",
        "        return board"
      ],
      "metadata": {
        "id": "i9P7gv0eRWm9"
      },
      "execution_count": null,
      "outputs": []
    },
    {
      "cell_type": "code",
      "source": [
        "board = create_board()\n",
        "place(board, 1, (0, 0))"
      ],
      "metadata": {
        "colab": {
          "base_uri": "https://localhost:8080/"
        },
        "id": "VzAJToAKRajX",
        "outputId": "e9cdb5fc-c2ba-49c5-9403-54c88ec59738"
      },
      "execution_count": null,
      "outputs": [
        {
          "output_type": "execute_result",
          "data": {
            "text/plain": [
              "array([[1, 0, 0],\n",
              "       [0, 0, 0],\n",
              "       [0, 0, 0]])"
            ]
          },
          "metadata": {},
          "execution_count": 14
        }
      ]
    },
    {
      "cell_type": "markdown",
      "source": [
        "# **Exercise 3**"
      ],
      "metadata": {
        "id": "3XAdiadgSjZ1"
      }
    },
    {
      "cell_type": "markdown",
      "source": [
        "The next step is for the current player to place a marker among the available positions. In this exercise, we will select an available board position at random and place a marker there.\n",
        "\n",
        "Write a function ***random_place(board, player)*** that places a marker for the current player at random among all the available positions (those currently set to 0).\n",
        "\n",
        "Find possible placements with ***possibilities(board)***.\n",
        "\n",
        "Select one possible placement at random using ***random.choice(selection)***.\n",
        "\n",
        "Note that ***board*** is already defined as at the end of Exercise 2. Call ***random_place(board, player)*** to place a random marker for Player 2, and store this as board to update its value."
      ],
      "metadata": {
        "id": "9c94wxyDSnrP"
      }
    },
    {
      "cell_type": "code",
      "source": [
        "random.seed(1)"
      ],
      "metadata": {
        "id": "t8BdzlHGTdvI"
      },
      "execution_count": null,
      "outputs": []
    },
    {
      "cell_type": "code",
      "source": [
        "def random_place(board, player):\n",
        "    selections = possibilities(board)\n",
        "    if len(selections) > 0:\n",
        "        selection = random.choice(selections)\n",
        "        place(board, player, selection)\n",
        "    return board"
      ],
      "metadata": {
        "id": "0nYe-QQHTeus"
      },
      "execution_count": null,
      "outputs": []
    },
    {
      "cell_type": "code",
      "source": [
        "random_place(board, 2)"
      ],
      "metadata": {
        "id": "jDchEGQZT6oe"
      },
      "execution_count": null,
      "outputs": []
    },
    {
      "cell_type": "markdown",
      "source": [
        "# **Exercise 4**"
      ],
      "metadata": {
        "id": "7uHKOtwEUeU2"
      }
    },
    {
      "cell_type": "markdown",
      "source": [
        "We will now have both players place three markers each.\n",
        "\n",
        "A new board is given by the sample code. Call ***random_place(board, player)*** to place three pieces each on board for players 1 and 2.\n",
        "\n",
        "Print ***board*** to see your result.\n",
        "\n",
        "At what positions does player 1 have markers after three rounds of random placement?"
      ],
      "metadata": {
        "id": "3At6ONihUhae"
      }
    },
    {
      "cell_type": "code",
      "source": [
        "random.seed(1)\n",
        "board = create_board()\n",
        "\n",
        "for i in range(3):\n",
        "    for player in [1, 2]:\n",
        "        random_place(board, player)"
      ],
      "metadata": {
        "colab": {
          "base_uri": "https://localhost:8080/",
          "height": 321
        },
        "id": "nX27j1jKUzGD",
        "outputId": "f78d02fb-dccc-4ff6-8ee7-255220fcd34f"
      },
      "execution_count": null,
      "outputs": [
        {
          "output_type": "error",
          "ename": "NameError",
          "evalue": "ignored",
          "traceback": [
            "\u001b[0;31m---------------------------------------------------------------------------\u001b[0m",
            "\u001b[0;31mNameError\u001b[0m                                 Traceback (most recent call last)",
            "\u001b[0;32m<ipython-input-19-08ee3ab67bcd>\u001b[0m in \u001b[0;36m<module>\u001b[0;34m\u001b[0m\n\u001b[1;32m      4\u001b[0m \u001b[0;32mfor\u001b[0m \u001b[0mi\u001b[0m \u001b[0;32min\u001b[0m \u001b[0mrange\u001b[0m\u001b[0;34m(\u001b[0m\u001b[0;36m3\u001b[0m\u001b[0;34m)\u001b[0m\u001b[0;34m:\u001b[0m\u001b[0;34m\u001b[0m\u001b[0;34m\u001b[0m\u001b[0m\n\u001b[1;32m      5\u001b[0m     \u001b[0;32mfor\u001b[0m \u001b[0mplayer\u001b[0m \u001b[0;32min\u001b[0m \u001b[0;34m[\u001b[0m\u001b[0;36m1\u001b[0m\u001b[0;34m,\u001b[0m \u001b[0;36m2\u001b[0m\u001b[0;34m]\u001b[0m\u001b[0;34m:\u001b[0m\u001b[0;34m\u001b[0m\u001b[0;34m\u001b[0m\u001b[0m\n\u001b[0;32m----> 6\u001b[0;31m         \u001b[0mrandom_place\u001b[0m\u001b[0;34m(\u001b[0m\u001b[0mboard\u001b[0m\u001b[0;34m,\u001b[0m \u001b[0mplayer\u001b[0m\u001b[0;34m)\u001b[0m\u001b[0;34m\u001b[0m\u001b[0;34m\u001b[0m\u001b[0m\n\u001b[0m",
            "\u001b[0;32m<ipython-input-18-4ed78148a2aa>\u001b[0m in \u001b[0;36mrandom_place\u001b[0;34m(board, player)\u001b[0m\n\u001b[1;32m      1\u001b[0m \u001b[0;32mdef\u001b[0m \u001b[0mrandom_place\u001b[0m\u001b[0;34m(\u001b[0m\u001b[0mboard\u001b[0m\u001b[0;34m,\u001b[0m \u001b[0mplayer\u001b[0m\u001b[0;34m)\u001b[0m\u001b[0;34m:\u001b[0m\u001b[0;34m\u001b[0m\u001b[0;34m\u001b[0m\u001b[0m\n\u001b[0;32m----> 2\u001b[0;31m     \u001b[0mselections\u001b[0m \u001b[0;34m=\u001b[0m \u001b[0mpossibilities\u001b[0m\u001b[0;34m(\u001b[0m\u001b[0mboard\u001b[0m\u001b[0;34m)\u001b[0m\u001b[0;34m\u001b[0m\u001b[0;34m\u001b[0m\u001b[0m\n\u001b[0m\u001b[1;32m      3\u001b[0m     \u001b[0;32mif\u001b[0m \u001b[0mlen\u001b[0m\u001b[0;34m(\u001b[0m\u001b[0mselections\u001b[0m\u001b[0;34m)\u001b[0m \u001b[0;34m>\u001b[0m \u001b[0;36m0\u001b[0m\u001b[0;34m:\u001b[0m\u001b[0;34m\u001b[0m\u001b[0;34m\u001b[0m\u001b[0m\n\u001b[1;32m      4\u001b[0m         \u001b[0mselection\u001b[0m \u001b[0;34m=\u001b[0m \u001b[0mrandom\u001b[0m\u001b[0;34m.\u001b[0m\u001b[0mchoice\u001b[0m\u001b[0;34m(\u001b[0m\u001b[0mselections\u001b[0m\u001b[0;34m)\u001b[0m\u001b[0;34m\u001b[0m\u001b[0;34m\u001b[0m\u001b[0m\n\u001b[1;32m      5\u001b[0m         \u001b[0mplace\u001b[0m\u001b[0;34m(\u001b[0m\u001b[0mboard\u001b[0m\u001b[0;34m,\u001b[0m \u001b[0mplayer\u001b[0m\u001b[0;34m,\u001b[0m \u001b[0mselection\u001b[0m\u001b[0;34m)\u001b[0m\u001b[0;34m\u001b[0m\u001b[0;34m\u001b[0m\u001b[0m\n",
            "\u001b[0;31mNameError\u001b[0m: name 'possibilities' is not defined"
          ]
        }
      ]
    },
    {
      "cell_type": "code",
      "source": [
        "print(board)"
      ],
      "metadata": {
        "id": "lm7HygMHU5Cu"
      },
      "execution_count": null,
      "outputs": []
    }
  ]
}